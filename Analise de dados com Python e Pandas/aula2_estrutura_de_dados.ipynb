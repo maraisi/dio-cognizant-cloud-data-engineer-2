{
  "nbformat": 4,
  "nbformat_minor": 0,
  "metadata": {
    "colab": {
      "provenance": [],
      "mount_file_id": "1wVLce-y4whaOA8L565cJV3oELOH3C3-b",
      "authorship_tag": "ABX9TyO/hFZfn2+wp4CqRggCUmrK",
      "include_colab_link": true
    },
    "kernelspec": {
      "name": "python3",
      "display_name": "Python 3"
    },
    "language_info": {
      "name": "python"
    }
  },
  "cells": [
    {
      "cell_type": "markdown",
      "metadata": {
        "id": "view-in-github",
        "colab_type": "text"
      },
      "source": [
        "<a href=\"https://colab.research.google.com/github/maraisi/dio.repo/blob/main/Analise%20de%20dados%20com%20Python%20e%20Pandas/aula2_estrutura_de_dados.ipynb\" target=\"_parent\"><img src=\"https://colab.research.google.com/assets/colab-badge.svg\" alt=\"Open In Colab\"/></a>"
      ]
    },
    {
      "cell_type": "markdown",
      "source": [
        "***Estrutura de Dados***"
      ],
      "metadata": {
        "id": "Jkv3xdymr__p"
      }
    },
    {
      "cell_type": "markdown",
      "source": [
        "**Listas**"
      ],
      "metadata": {
        "id": "FHhg49r8SfFx"
      }
    },
    {
      "cell_type": "code",
      "source": [
        "#Criando uma lista de animais\n",
        "lista_animais = [1,2,3]\n",
        "lista_animais"
      ],
      "metadata": {
        "colab": {
          "base_uri": "https://localhost:8080/"
        },
        "id": "usrF0WgfsUcB",
        "outputId": "de9feb6f-f0cd-4934-f386-4765417ebc5d"
      },
      "execution_count": null,
      "outputs": [
        {
          "output_type": "execute_result",
          "data": {
            "text/plain": [
              "[1, 2, 3]"
            ]
          },
          "metadata": {},
          "execution_count": 69
        }
      ]
    },
    {
      "cell_type": "code",
      "source": [
        "lista_animais = [\"gato\", \"papagaio\", \"cachorro\", \"galinha\", 67, 82]\n",
        "lista_animais"
      ],
      "metadata": {
        "colab": {
          "base_uri": "https://localhost:8080/"
        },
        "id": "QI9H58VnSjJ-",
        "outputId": "4159ac55-3fc9-489e-aa8b-edb528d6ddbf"
      },
      "execution_count": null,
      "outputs": [
        {
          "output_type": "execute_result",
          "data": {
            "text/plain": [
              "['gato', 'papagaio', 'cachorro', 'galinha', 67, 82]"
            ]
          },
          "metadata": {},
          "execution_count": 70
        }
      ]
    },
    {
      "cell_type": "code",
      "source": [
        "#Primeiro elemento da lista\n",
        "lista_animais[0]"
      ],
      "metadata": {
        "colab": {
          "base_uri": "https://localhost:8080/",
          "height": 35
        },
        "id": "jtnUJk_Ss1v7",
        "outputId": "9aca073f-ca84-4e05-8972-1f0783c70a17"
      },
      "execution_count": null,
      "outputs": [
        {
          "output_type": "execute_result",
          "data": {
            "text/plain": [
              "'gato'"
            ],
            "application/vnd.google.colaboratory.intrinsic+json": {
              "type": "string"
            }
          },
          "metadata": {},
          "execution_count": 71
        }
      ]
    },
    {
      "cell_type": "code",
      "source": [
        "#Terceiro elemento da lista\n",
        "lista_animais[2]"
      ],
      "metadata": {
        "colab": {
          "base_uri": "https://localhost:8080/",
          "height": 35
        },
        "id": "1OHNSikttMXF",
        "outputId": "a81e0c5c-1baf-4245-fec3-0064da1b0eb4"
      },
      "execution_count": null,
      "outputs": [
        {
          "output_type": "execute_result",
          "data": {
            "text/plain": [
              "'cachorro'"
            ],
            "application/vnd.google.colaboratory.intrinsic+json": {
              "type": "string"
            }
          },
          "metadata": {},
          "execution_count": 72
        }
      ]
    },
    {
      "cell_type": "code",
      "source": [
        "print(lista_animais)\n",
        "len(lista_animais)\n",
        "print(\"quantos elementos tem na lista?\", len(lista_animais))"
      ],
      "metadata": {
        "colab": {
          "base_uri": "https://localhost:8080/"
        },
        "id": "niJP_5YWsqhl",
        "outputId": "fa6b2d30-e425-4ebc-95d0-ec449b50facf"
      },
      "execution_count": null,
      "outputs": [
        {
          "output_type": "stream",
          "name": "stdout",
          "text": [
            "['gato', 'papagaio', 'cachorro', 'galinha', 67, 82]\n",
            "quantos elementos tem na lista? 6\n"
          ]
        }
      ]
    },
    {
      "cell_type": "code",
      "source": [
        "#Substituindo o terceiro elemento da lista\n",
        "lista_animais[2] = 'girafa'\n",
        "lista_animais"
      ],
      "metadata": {
        "colab": {
          "base_uri": "https://localhost:8080/"
        },
        "id": "lAqc8AWUtUWN",
        "outputId": "c88cb47f-58e8-4bd8-d4e5-8b620f2264d9"
      },
      "execution_count": null,
      "outputs": [
        {
          "output_type": "execute_result",
          "data": {
            "text/plain": [
              "['gato', 'papagaio', 'girafa', 'galinha', 67, 82]"
            ]
          },
          "metadata": {},
          "execution_count": 74
        }
      ]
    },
    {
      "cell_type": "code",
      "source": [
        "#Removendo um elemento específico da lista\n",
        "lista_animais.remove('girafa')\n",
        "lista_animais"
      ],
      "metadata": {
        "colab": {
          "base_uri": "https://localhost:8080/"
        },
        "id": "qr3wPxk5tdiA",
        "outputId": "a179802b-6b7c-4651-88c0-985582effe41"
      },
      "execution_count": null,
      "outputs": [
        {
          "output_type": "execute_result",
          "data": {
            "text/plain": [
              "['gato', 'papagaio', 'galinha', 67, 82]"
            ]
          },
          "metadata": {},
          "execution_count": 75
        }
      ]
    },
    {
      "cell_type": "code",
      "source": [
        "#adiciona UM elemento a lista\n",
        "lista_animais.append('leão')\n",
        "lista_animais"
      ],
      "metadata": {
        "colab": {
          "base_uri": "https://localhost:8080/"
        },
        "id": "L-kNU890vcYE",
        "outputId": "f59c0b81-54b6-4065-9078-4278d66feb23"
      },
      "execution_count": null,
      "outputs": [
        {
          "output_type": "execute_result",
          "data": {
            "text/plain": [
              "['gato', 'papagaio', 'galinha', 67, 82, 'leão']"
            ]
          },
          "metadata": {},
          "execution_count": 76
        }
      ]
    },
    {
      "cell_type": "code",
      "source": [
        "#remove o ultimo elemento da lista\n",
        "lista_animais.pop()\n",
        "lista_animais"
      ],
      "metadata": {
        "colab": {
          "base_uri": "https://localhost:8080/"
        },
        "id": "sRzuU3Xkvm-S",
        "outputId": "c1880b1b-90d8-47af-9882-f4e7b05b84ce"
      },
      "execution_count": null,
      "outputs": [
        {
          "output_type": "execute_result",
          "data": {
            "text/plain": [
              "['gato', 'papagaio', 'galinha', 67, 82]"
            ]
          },
          "metadata": {},
          "execution_count": 77
        }
      ]
    },
    {
      "cell_type": "code",
      "source": [
        "#adiciona mais de um elemento a lista. Tem que usado com colchetes []\n",
        "lista_animais.extend(['cachorro',33, 'vaca'])\n",
        "lista_animais"
      ],
      "metadata": {
        "colab": {
          "base_uri": "https://localhost:8080/"
        },
        "id": "LRqxL7SIv-RD",
        "outputId": "6b455d79-d8df-4f3f-baa2-a5f839c94a41"
      },
      "execution_count": null,
      "outputs": [
        {
          "output_type": "execute_result",
          "data": {
            "text/plain": [
              "['gato', 'papagaio', 'galinha', 67, 82, 'cachorro', 33, 'vaca']"
            ]
          },
          "metadata": {},
          "execution_count": 78
        }
      ]
    },
    {
      "cell_type": "code",
      "source": [
        "#diferente do extend, se usar colchetes no append, será inserido uma lista dentro da lista\n",
        "lista_animais.append(['cachorro',33, 'vaca'])\n",
        "lista_animais"
      ],
      "metadata": {
        "colab": {
          "base_uri": "https://localhost:8080/"
        },
        "id": "XzU5BBKuw9GO",
        "outputId": "9121c7a6-1c3a-492f-afc1-fc64c13523d0"
      },
      "execution_count": null,
      "outputs": [
        {
          "output_type": "execute_result",
          "data": {
            "text/plain": [
              "['gato',\n",
              " 'papagaio',\n",
              " 'galinha',\n",
              " 67,\n",
              " 82,\n",
              " 'cachorro',\n",
              " 33,\n",
              " 'vaca',\n",
              " ['cachorro', 33, 'vaca']]"
            ]
          },
          "metadata": {},
          "execution_count": 79
        }
      ]
    },
    {
      "cell_type": "code",
      "source": [
        "lista_animais.pop()\n",
        "lista_animais"
      ],
      "metadata": {
        "colab": {
          "base_uri": "https://localhost:8080/"
        },
        "id": "tQEuE_h2xVgM",
        "outputId": "cb7b6c45-5b7e-4c12-9d9e-4934e8388cdd"
      },
      "execution_count": null,
      "outputs": [
        {
          "output_type": "execute_result",
          "data": {
            "text/plain": [
              "['gato', 'papagaio', 'galinha', 67, 82, 'cachorro', 33, 'vaca']"
            ]
          },
          "metadata": {},
          "execution_count": 80
        }
      ]
    },
    {
      "cell_type": "code",
      "source": [
        "lista_n = [400, 30, 4000, 54, 78]\n",
        "max(lista_n)"
      ],
      "metadata": {
        "colab": {
          "base_uri": "https://localhost:8080/"
        },
        "id": "dnEWdAlLtw4m",
        "outputId": "5abfa0ec-43ae-4f85-d289-097eee476efe"
      },
      "execution_count": null,
      "outputs": [
        {
          "output_type": "execute_result",
          "data": {
            "text/plain": [
              "4000"
            ]
          },
          "metadata": {},
          "execution_count": 81
        }
      ]
    },
    {
      "cell_type": "code",
      "source": [
        "min(lista_n)"
      ],
      "metadata": {
        "colab": {
          "base_uri": "https://localhost:8080/"
        },
        "id": "7RIVZExuvQ1n",
        "outputId": "1b6c1f0b-dff5-4964-e2f3-f63c03f2cfa6"
      },
      "execution_count": null,
      "outputs": [
        {
          "output_type": "execute_result",
          "data": {
            "text/plain": [
              "30"
            ]
          },
          "metadata": {},
          "execution_count": 82
        }
      ]
    },
    {
      "cell_type": "markdown",
      "source": [
        "**Tupla**"
      ],
      "metadata": {
        "id": "ISzuyi9ZxywB"
      }
    },
    {
      "cell_type": "code",
      "source": [
        "# as tuplas são criada com tuple ou parenteses()\n",
        "# diferente das listas, as tuplas são imutáveis\n",
        "tupla = ('banana', 'maça', 'ameixa', 'laranja')\n",
        "tupla"
      ],
      "metadata": {
        "colab": {
          "base_uri": "https://localhost:8080/"
        },
        "id": "4WVib3GYx1Co",
        "outputId": "49178c8e-00d1-4d98-e499-f19eac44bb96"
      },
      "execution_count": null,
      "outputs": [
        {
          "output_type": "execute_result",
          "data": {
            "text/plain": [
              "('banana', 'maça', 'ameixa', 'laranja')"
            ]
          },
          "metadata": {},
          "execution_count": 83
        }
      ]
    },
    {
      "cell_type": "markdown",
      "source": [
        "**Dicionário**"
      ],
      "metadata": {
        "id": "hVSdevM0yUQT"
      }
    },
    {
      "cell_type": "code",
      "source": [
        "# dicionario são criado com dict ou com chaves {}\n",
        "# dicionários possuem estrutura chave-valor\n",
        "dc = dict(chave1 = 'cachorro', chave2 = 10, chave3 = [45, 'listinha', 'maça'])\n",
        "dc"
      ],
      "metadata": {
        "colab": {
          "base_uri": "https://localhost:8080/"
        },
        "id": "ecdlLKeoyPIu",
        "outputId": "6d39bee8-16d5-4a90-e9dd-08ac8b837eb6"
      },
      "execution_count": null,
      "outputs": [
        {
          "output_type": "execute_result",
          "data": {
            "text/plain": [
              "{'chave1': 'cachorro', 'chave2': 10, 'chave3': [45, 'listinha', 'maça']}"
            ]
          },
          "metadata": {},
          "execution_count": 90
        }
      ]
    },
    {
      "cell_type": "code",
      "source": [
        "dc2 = {'key1':'gato', 'key2': 10, 'key3': [45, 'listinha', 'maça']}\n",
        "dc2"
      ],
      "metadata": {
        "colab": {
          "base_uri": "https://localhost:8080/"
        },
        "id": "ThoykQJByX1g",
        "outputId": "fda79ba8-ba39-4f35-dea6-aa4cf9cae2f6"
      },
      "execution_count": null,
      "outputs": [
        {
          "output_type": "execute_result",
          "data": {
            "text/plain": [
              "{'key1': 'gato', 'key2': 10, 'key3': [45, 'listinha', 'maça']}"
            ]
          },
          "metadata": {},
          "execution_count": 94
        }
      ]
    },
    {
      "cell_type": "code",
      "source": [
        "dc.keys()"
      ],
      "metadata": {
        "colab": {
          "base_uri": "https://localhost:8080/"
        },
        "id": "x-TJNzKK0p_7",
        "outputId": "ee786997-6622-42c6-89bf-ab1a4ba9d2ff"
      },
      "execution_count": null,
      "outputs": [
        {
          "output_type": "execute_result",
          "data": {
            "text/plain": [
              "dict_keys(['chave1', 'chave2', 'chave3'])"
            ]
          },
          "metadata": {},
          "execution_count": 92
        }
      ]
    },
    {
      "cell_type": "code",
      "source": [
        "dc.values()"
      ],
      "metadata": {
        "colab": {
          "base_uri": "https://localhost:8080/"
        },
        "id": "BjS__gNN0vtW",
        "outputId": "1369ec2e-d228-473e-a288-720c243d0a9d"
      },
      "execution_count": null,
      "outputs": [
        {
          "output_type": "execute_result",
          "data": {
            "text/plain": [
              "dict_values(['cachorro', 10, [45, 'listinha', 'maça']])"
            ]
          },
          "metadata": {},
          "execution_count": 93
        }
      ]
    },
    {
      "cell_type": "code",
      "source": [
        "#verifica se a chave pesquisada existe\n",
        "#se existir, o comando não faz nada\n",
        "#se não existir ele adiciona a chave ao dicionário\n",
        "dc.setdefault(\"chave1\", 'cachorro')\n",
        "dc"
      ],
      "metadata": {
        "colab": {
          "base_uri": "https://localhost:8080/"
        },
        "id": "BL0Ae4WV0xVn",
        "outputId": "0fd57589-f013-4b1f-ba68-00569b79c8fc"
      },
      "execution_count": null,
      "outputs": [
        {
          "output_type": "execute_result",
          "data": {
            "text/plain": [
              "{'chave1': 'cachorro', 'chave2': 10, 'chave3': [45, 'listinha', 'maça']}"
            ]
          },
          "metadata": {},
          "execution_count": 96
        }
      ]
    },
    {
      "cell_type": "code",
      "source": [
        "dc2.setdefault(\"chave1\", 'cachorro')\n",
        "dc2"
      ],
      "metadata": {
        "colab": {
          "base_uri": "https://localhost:8080/"
        },
        "id": "M-AhhARv1JMq",
        "outputId": "65c7e59c-c6ec-4cf1-9425-59546ee9fd8e"
      },
      "execution_count": null,
      "outputs": [
        {
          "output_type": "execute_result",
          "data": {
            "text/plain": [
              "{'key1': 'gato',\n",
              " 'key2': 10,\n",
              " 'key3': [45, 'listinha', 'maça'],\n",
              " 'chave1': 'cachorro'}"
            ]
          },
          "metadata": {},
          "execution_count": 99
        }
      ]
    }
  ]
}